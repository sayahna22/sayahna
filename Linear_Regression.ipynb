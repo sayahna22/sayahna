{
  "nbformat": 4,
  "nbformat_minor": 0,
  "metadata": {
    "colab": {
      "name": "Linear Regression.ipynb",
      "provenance": [],
      "collapsed_sections": [],
      "authorship_tag": "ABX9TyM5Anl5GgPer+975eHVWzYM",
      "include_colab_link": true
    },
    "kernelspec": {
      "name": "python3",
      "display_name": "Python 3"
    }
  },
  "cells": [
    {
      "cell_type": "markdown",
      "metadata": {
        "id": "view-in-github",
        "colab_type": "text"
      },
      "source": [
        "<a href=\"https://colab.research.google.com/github/sayahna22/sayahna/blob/master/Linear_Regression.ipynb\" target=\"_parent\"><img src=\"https://colab.research.google.com/assets/colab-badge.svg\" alt=\"Open In Colab\"/></a>"
      ]
    },
    {
      "cell_type": "code",
      "metadata": {
        "id": "MTv-mwi_lH97",
        "colab_type": "code",
        "colab": {}
      },
      "source": [
        "#Linear regression from Scratch\n",
        "import numpy as np\n",
        "import pandas as pa\n",
        "import matplotlib.pyplot as plt\n",
        "\n"
      ],
      "execution_count": 14,
      "outputs": []
    },
    {
      "cell_type": "code",
      "metadata": {
        "id": "_qmVugKvm0Qs",
        "colab_type": "code",
        "colab": {
          "base_uri": "https://localhost:8080/",
          "height": 133
        },
        "outputId": "98076491-5db0-45b1-e94c-6cb32ea321d3"
      },
      "source": [
        "data=pa.read_csv(\"/content/head_brain/headbrain.csv\")\n",
        "print(data.head())\n",
        "print(data.shape)\n",
        "x=data[\"Head Size(cm^3)\"].values\n",
        "y=data[\"Brain Weight(grams)\"].values\n"
      ],
      "execution_count": 15,
      "outputs": [
        {
          "output_type": "stream",
          "text": [
            "   Gender  Age Range  Head Size(cm^3)  Brain Weight(grams)\n",
            "0       1          1             4512                 1530\n",
            "1       1          1             3738                 1297\n",
            "2       1          1             4261                 1335\n",
            "3       1          1             3777                 1282\n",
            "4       1          1             4177                 1590\n",
            "(237, 4)\n"
          ],
          "name": "stdout"
        }
      ]
    },
    {
      "cell_type": "code",
      "metadata": {
        "id": "l6GPyfkroRM9",
        "colab_type": "code",
        "colab": {
          "base_uri": "https://localhost:8080/",
          "height": 50
        },
        "outputId": "ae2ff178-f1f3-46aa-d47e-29527fafe382"
      },
      "source": [
        "mean_x=np.mean(x)\n",
        "mean_y=np.mean(y)\n",
        "print(mean_x,mean_y)\n",
        "n=len(x)\n",
        "num=0\n",
        "den=0\n",
        "for i in range(n):\n",
        "   num+=(x[i]-mean_x)*(y[i]-mean_y)\n",
        "   den+=(x[i]-mean_x)**2\n",
        "m=num/den\n",
        "c=mean_y-(m*mean_x)\n",
        "print(m,c)\n",
        "   "
      ],
      "execution_count": 20,
      "outputs": [
        {
          "output_type": "stream",
          "text": [
            "3633.9915611814345 1282.873417721519\n",
            "0.26342933948939945 325.57342104944223\n"
          ],
          "name": "stdout"
        }
      ]
    },
    {
      "cell_type": "code",
      "metadata": {
        "id": "DGvb7CoyqK8-",
        "colab_type": "code",
        "colab": {
          "base_uri": "https://localhost:8080/",
          "height": 280
        },
        "outputId": "1b0834a4-3e43-40a8-b532-f1b35b5f21f6"
      },
      "source": [
        "#visualize the model\n",
        "max_x=np.max(x)+100\n",
        "min_x=np.min(x)-100\n",
        "X=np.linspace(min_x,max_x,1000)\n",
        "Y=m*X+c\n",
        "plt.plot(X,Y,color=\"Green\",label=\"Reg line\")\n",
        "plt.scatter(x,y,color=\"orange\",label=\"Scatter Plot\")\n",
        "plt.xlabel(\"Head _Size\")\n",
        "plt.ylabel(\"Weight\")\n",
        "plt.legend()\n",
        "plt.show()\n"
      ],
      "execution_count": 21,
      "outputs": [
        {
          "output_type": "display_data",
          "data": {
            "image/png": "[encoded data removed]",
            "text/plain": [
              "<Figure size 432x288 with 1 Axes>"
            ]
          },
          "metadata": {
            "tags": [],
            "needs_background": "light"
          }
        }
      ]
    },
    {
      "cell_type": "code",
      "metadata": {
        "id": "DwY87Ez5pyIr",
        "colab_type": "code",
        "colab": {
          "base_uri": "https://localhost:8080/",
          "height": 33
        },
        "outputId": "25866457-bb81-4001-fad4-bad37e616315"
      },
      "source": [
        "#calculate the R**2 method\n",
        "nu=0\n",
        "de=0\n",
        "for i in range(n):\n",
        "  y_pred=(m*x[i])+c\n",
        "  nu+=(y_pred-mean_y)**2\n",
        "  de+=(y[i]-mean_y)**2\n",
        "R=(nu/de)\n",
        "print(R)\n"
      ],
      "execution_count": 36,
      "outputs": [
        {
          "output_type": "stream",
          "text": [
            "0.6393117199570001\n"
          ],
          "name": "stdout"
        }
      ]
    },
    {
      "cell_type": "code",
      "metadata": {
        "id": "kBKPuXNQuqF1",
        "colab_type": "code",
        "colab": {
          "base_uri": "https://localhost:8080/",
          "height": 50
        },
        "outputId": "cd6e2969-ae7b-41f1-8aad-506ea1f6c780"
      },
      "source": [
        "#library use of Linear Regression\n",
        "from sklearn.linear_model import LinearRegression\n",
        "from sklearn.metrics import mean_squared_error\n",
        "x=x.reshape((n,1))\n",
        "#create a model\n",
        "reg=LinearRegression()\n",
        "#fit train data\n",
        "reg=reg.fit(x,y)\n",
        "#y_prediction\n",
        "y_pred=reg.predict(x)\n",
        "#calculating RMS\n",
        "R=mean_squared_error(y,y_pred)\n",
        "R=np.sqrt(R)\n",
        "r2_Score=reg.score(x,y)\n",
        "print(R)\n",
        "print(r2_Score)"
      ],
      "execution_count": 38,
      "outputs": [
        {
          "output_type": "stream",
          "text": [
            "72.1206213783709\n",
            "0.639311719957\n"
          ],
          "name": "stdout"
        }
      ]
    }
  ]
}